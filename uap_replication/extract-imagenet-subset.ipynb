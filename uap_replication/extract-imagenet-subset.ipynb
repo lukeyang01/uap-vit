{
 "cells": [
  {
   "cell_type": "code",
   "execution_count": null,
   "id": "afdca4c3",
   "metadata": {
    "_cell_guid": "b1076dfc-b9ad-4769-8c92-a6c4dae69d19",
    "_uuid": "8f2839f25d086af736a60e9eeb907d3b93b6e0e5",
    "execution": {
     "iopub.execute_input": "2024-11-20T21:29:27.990353Z",
     "iopub.status.busy": "2024-11-20T21:29:27.989263Z",
     "iopub.status.idle": "2024-11-20T21:41:38.633280Z",
     "shell.execute_reply": "2024-11-20T21:41:38.632202Z"
    },
    "papermill": {
     "duration": 730.659117,
     "end_time": "2024-11-20T21:41:38.644015",
     "exception": false,
     "start_time": "2024-11-20T21:29:27.984898",
     "status": "completed"
    },
    "tags": []
   },
   "outputs": [],
   "source": [
    "# Kaggle kernel to pull a subset of ImageNet data.\n",
    "\n",
    "import os\n",
    "import random\n",
    "import shutil\n",
    "from os.path import join\n",
    "\n",
    "SRC = \"/kaggle/input/imagenet-object-localization-challenge/\"\n",
    "DST = \"/kaggle/temp/\"\n",
    "P = 50000 / 1281000 # Controls fraction of training data to pull."
   ]
  },
  {
   "cell_type": "code",
   "execution_count": null,
   "id": "dedf53e1",
   "metadata": {},
   "outputs": [],
   "source": [
    "# Copy validation data and labels.\n",
    "shutil.copy(join(SRC, \"LOC_val_solution.csv\"), join(DST, \"LOC_val_solution.csv\"))\n",
    "shutil.copytree(join(SRC, \"ILSVRC/Data/CLS-LOC/val\"), join(DST, \"ILSVRC/Data/CLS-LOC/val\"), dirs_exist_ok=True)"
   ]
  },
  {
   "cell_type": "code",
   "execution_count": null,
   "id": "7ed8250a",
   "metadata": {},
   "outputs": [],
   "source": [
    "# Copy a random subset of the training data. Precisely, copy each image w.p. p.\n",
    "# Ensure each class has a directory even if none if its representatives are copied.\n",
    "for dir in os.listdir(join(SRC, \"ILSVRC/Data/CLS-LOC/train\")):\n",
    "    src_dir = join(SRC, \"ILSVRC/Data/CLS-LOC/train\", dir)\n",
    "    dst_dir = join(DST, \"ILSVRC/Data/CLS-LOC/train\", dir)\n",
    "    os.makedirs(dst_dir, exist_ok=True)\n",
    "\n",
    "    for img in os.listdir(src_dir):\n",
    "        if random.random() < P:\n",
    "            shutil.copy(join(src_dir, img), join(dst_dir, img))"
   ]
  },
  {
   "cell_type": "code",
   "execution_count": null,
   "id": "a6b86924",
   "metadata": {},
   "outputs": [],
   "source": [
    "shutil.make_archive(\"/kaggle/working/data\", \"zip\", \"/kaggle/temp/\")"
   ]
  }
 ],
 "metadata": {
  "kaggle": {
   "accelerator": "none",
   "dataSources": [
    {
     "databundleVersionId": 4225553,
     "sourceId": 6799,
     "sourceType": "competition"
    }
   ],
   "dockerImageVersionId": 30786,
   "isGpuEnabled": false,
   "isInternetEnabled": false,
   "language": "python",
   "sourceType": "notebook"
  },
  "kernelspec": {
   "display_name": "Python 3",
   "language": "python",
   "name": "python3"
  },
  "language_info": {
   "codemirror_mode": {
    "name": "ipython",
    "version": 3
   },
   "file_extension": ".py",
   "mimetype": "text/x-python",
   "name": "python",
   "nbconvert_exporter": "python",
   "pygments_lexer": "ipython3",
   "version": "3.10.14"
  },
  "papermill": {
   "default_parameters": {},
   "duration": 733.91187,
   "end_time": "2024-11-20T21:41:39.072361",
   "environment_variables": {},
   "exception": null,
   "input_path": "__notebook__.ipynb",
   "output_path": "__notebook__.ipynb",
   "parameters": {},
   "start_time": "2024-11-20T21:29:25.160491",
   "version": "2.6.0"
  }
 },
 "nbformat": 4,
 "nbformat_minor": 5
}
